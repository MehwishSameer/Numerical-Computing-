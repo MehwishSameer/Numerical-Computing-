{
  "nbformat": 4,
  "nbformat_minor": 0,
  "metadata": {
    "colab": {
      "name": "Stirling Interpolation formula.ipynb",
      "provenance": [],
      "collapsed_sections": [],
      "authorship_tag": "ABX9TyNucjWOeCUEl48MDIjNrF2W",
      "include_colab_link": true
    },
    "kernelspec": {
      "name": "python3",
      "display_name": "Python 3"
    },
    "language_info": {
      "name": "python"
    }
  },
  "cells": [
    {
      "cell_type": "markdown",
      "metadata": {
        "id": "view-in-github",
        "colab_type": "text"
      },
      "source": [
        "<a href=\"https://colab.research.google.com/github/MehwishSameer/Numerical-Computing-/blob/main/Stirling_Interpolation_formula.ipynb\" target=\"_parent\"><img src=\"https://colab.research.google.com/assets/colab-badge.svg\" alt=\"Open In Colab\"/></a>"
      ]
    },
    {
      "cell_type": "code",
      "execution_count": 19,
      "metadata": {
        "id": "87YKcL90Fg1F",
        "colab": {
          "base_uri": "https://localhost:8080/"
        },
        "outputId": "7d06e282-ed7f-4075-951b-d3cfdde2cdb8"
      },
      "outputs": [
        {
          "output_type": "stream",
          "name": "stdout",
          "text": [
            "Enter number of rows= 5\n",
            "Enter x and f(x) values= \n",
            "x0=0\n",
            "f(x)0=1\n",
            "x1=0.2\n",
            "f(x)1=1.22140\n",
            "x2=0.4\n",
            "f(x)2=1.49182\n",
            "x3=0.6\n",
            "f(x)3=1.82212\n",
            "x4=0.8\n",
            "f(x)4=2.22554\n",
            "\n",
            "\n",
            "** Stirling Interpolation Formula **\n",
            "\t  x \t  f(x)\t \n",
            "0 \t 0.00 \t 1.00000 \t 0.22140 \t 0.04902 \t 0.01086 \t 0.00238 \t \n",
            "1 \t 0.20 \t 1.22140 \t 0.27042 \t 0.05988 \t 0.01324 \t \n",
            "2 \t 0.40 \t 1.49182 \t 0.33030 \t 0.07312 \t \n",
            "3 \t 0.60 \t 1.82212 \t 0.40342 \t \n",
            "4 \t 0.80 \t 2.22554 \t \n",
            "\n",
            "Enter value of x for which f(x) is required: 0.43\n",
            "Value of h is 0.20000  and value of p is 0.15000\n",
            "\n",
            "P(x) = 1.49182 + ((0.33030 +0.27042)/2 )(0.15000 ))/ 1 ! + ((0.05988 )(0.02250 ))/ 2 ! + ((0.01324 +0.01086)/2 )(-0.14662 ))/ 3 ! + ((0.00238 )(-0.02199 ))/ 4 !\n",
            "P( 0.43 )= 1.53725\n"
          ]
        }
      ],
      "source": [
        "import numpy as np\n",
        "import math \n",
        "\n",
        "def formula(x, y, n, k, p): \n",
        "    q=m=r=l=1\n",
        "    print('%0.5f'%(y[k][0]),end=\"\")\n",
        "    for i in range(1, n):\n",
        "        if(i%2!=0):\n",
        "          if (q != 2):\n",
        "                m *= (pow(p, q) - pow((q - 1), 2));\n",
        "          else:\n",
        "                m *= (pow(p, 2) - pow((q - 1), 2));\n",
        "          print(' + ((%0.5f'%(y[k][i]),'+%0.5f)/2'%(y[k-1][i]),')(%0.5f'%(m),\"))/\",i,\"!\",end=\"\")\n",
        "          q+=1  \n",
        "          k=k-1 \n",
        "        else:\n",
        "          r *= (pow(p, 2) - pow((l - 1), 2));\n",
        "          l += 1;\n",
        "          print(' + ((%0.5f'%(y[k][i]),')(%0.5f'%(r),\"))/\",i,\"!\",end=\"\")  \n",
        "\n",
        "n = int(input('Enter number of rows= '))\n",
        "\n",
        "x = np.zeros((n))\n",
        "y = np.zeros((n,n))\n",
        "\n",
        "print('Enter x and f(x) values= ')\n",
        "for i in range(n):\n",
        "    x[i] = float(input( 'x'+str(i)+'='))\n",
        "    y[i][0] = float(input( 'f(x)'+str(i)+'='))\n",
        "\n",
        "for i in range(1, n): \n",
        "        for j in range(0, n - i): \n",
        "            y[j][i] = (y[j + 1][i - 1]-y[j][i - 1]);   \n",
        "\n",
        "print('\\n\\n** Stirling Interpolation Formula **')\n",
        "\n",
        "print(\"\\t  x \\t  f(x)\\t \")\n",
        "for i in range(n):\n",
        "    print(i,\"\\t\", '%0.2f' %(x[i]), \"\\t\", end=\" \")  \n",
        "    for j in range(0, n - i):\n",
        "        print('%0.5f' %(y[i][j]), \"\\t\", end=\" \")\n",
        "    print(\"\");  \n",
        "\n",
        "val = float(input('\\nEnter value of x for which f(x) is required: '))\n",
        "\n",
        "h=x[1]-x[0]\n",
        "k=math.floor(n/2)\n",
        "p=(val-x[k])/h\n",
        "print(\"Value of h is %0.5f\"%(h),\" and value of p is %0.5f\"%(p))\n",
        "print(\"\\nP(x) = \",end=\"\")\n",
        "formula(x, y, n, k, p)\n",
        "\n",
        "\n",
        "d=q=l=m=r=o=1\n",
        "ans=y[k][0]\n",
        "for i in range(1, n):\n",
        "    if (i % 2 != 0):\n",
        "            if (q != 2):\n",
        "                m *= (pow(p, q) - pow((q - 1), 2));\n",
        "            else:\n",
        "                m *= (pow(p, 2) - pow((q - 1), 2));\n",
        "            q += 1;\n",
        "            d *= i;\n",
        "            k = math.floor((n - i) / 2);\n",
        "            ans += (m / (2 * d)) * (y[k][i] +y[k - 1][i]);\n",
        "    else:\n",
        "            r *= (pow(p, 2) - pow((l - 1), 2));\n",
        "            l += 1;\n",
        "            d *= i;\n",
        "            k = math.floor((n - i) / 2);\n",
        "            ans += (r / (d)) * (y[k][i]);   \n",
        "\n",
        "print(\"\\nP(\", val, \")=\", round(ans,5))"
      ]
    }
  ]
}