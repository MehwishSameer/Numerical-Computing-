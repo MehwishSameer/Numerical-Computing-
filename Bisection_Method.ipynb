{
  "nbformat": 4,
  "nbformat_minor": 0,
  "metadata": {
    "colab": {
      "name": "Bisection Method.ipynb",
      "provenance": [],
      "authorship_tag": "ABX9TyMJC7DyukmVGRz6mDqYMiXc",
      "include_colab_link": true
    },
    "kernelspec": {
      "name": "python3",
      "display_name": "Python 3"
    },
    "language_info": {
      "name": "python"
    }
  },
  "cells": [
    {
      "cell_type": "markdown",
      "metadata": {
        "id": "view-in-github",
        "colab_type": "text"
      },
      "source": [
        "<a href=\"https://colab.research.google.com/github/MehwishSameer/Numerical-Computing-/blob/main/Bisection_Method.ipynb\" target=\"_parent\"><img src=\"https://colab.research.google.com/assets/colab-badge.svg\" alt=\"Open In Colab\"/></a>"
      ]
    },
    {
      "cell_type": "markdown",
      "source": [
        "# **Bisection Method**"
      ],
      "metadata": {
        "id": "BKtOheZ_secg"
      }
    },
    {
      "cell_type": "code",
      "source": [
        "import math\n",
        "from math import sin\n",
        "from math import cos"
      ],
      "metadata": {
        "id": "5E0VSPH63HH8"
      },
      "execution_count": 3,
      "outputs": []
    },
    {
      "cell_type": "markdown",
      "source": [
        "First Taking Inputs From User And Turning String Into Equation. Then If equation has no roots in the interval then program will prompt for new values. After this Loop continues until f(mid)=mid_ is not equal to zero. If mid_ <0.001 then the loop ends as we got our approximate result else loop will continue by changing either b or c value with mid. "
      ],
      "metadata": {
        "id": "ftyeKOJdU-vW"
      }
    },
    {
      "cell_type": "markdown",
      "source": [
        "**NOTE: ALWAYS WRITE COEFFECIENT OF X, SIN, AND COS IN EQUATIONS.**"
      ],
      "metadata": {
        "id": "YDYIyCY9rzTT"
      }
    },
    {
      "cell_type": "code",
      "execution_count": 4,
      "metadata": {
        "colab": {
          "base_uri": "https://localhost:8080/"
        },
        "id": "VunJMu9PtP5U",
        "outputId": "4a445ad6-2cfb-4355-dc92-1481fd83b4e9"
      },
      "outputs": [
        {
          "output_type": "stream",
          "name": "stdout",
          "text": [
            "Enter Equation:1sin(1x)\n",
            "Enter Starting Interval:1\n",
            "Enter Ending Interval:99\n",
            "94.24774169921875 and 94.24923706054688 are the roots of the equation.\n",
            "No. of iterations is 17\n"
          ]
        }
      ],
      "source": [
        "while True:\n",
        "  a=input(\"Enter Equation:\")\n",
        "  b=int(input(\"Enter Starting Interval:\"))\n",
        "  c=int(input(\"Enter Ending Interval:\"))\n",
        "  res=a.replace('^','**').replace('=','').replace('0','').replace('x','*b').replace('sin','*sin').replace('cos','*cos')\n",
        "  d=float(eval(res))\n",
        "  res=a.replace('^','**').replace('=','').replace('0','').replace('x','*c').replace('sin','*sin').replace('cos','*cos')\n",
        "  e=float(eval(res))\n",
        "  if d*e >0:\n",
        "    print(\"No such solution exists in the entered interval. Try with new values.....\")\n",
        "    continue\n",
        "  elif d*e==0:\n",
        "    print(a+\" and \"+b\"are the roots of the equation.\")\n",
        "  else:  \n",
        "    res=a.replace('x','*((b+c)/2)').replace('=','').replace('0','').replace('^','**').replace('sin','*sin').replace('cos','*cos')\n",
        "    mid_=float(eval(res))\n",
        "    p=0\n",
        "    while mid_ !=0:\n",
        "      p=p+1\n",
        "      mid=float((b+c)/2)\n",
        "      if mid_<0:\n",
        "        b=mid\n",
        "      elif mid_<0.001:\n",
        "        break\n",
        "      else:\n",
        "        c=mid\n",
        "      res=a.replace('x','*b').replace('=','').replace('0','').replace('^','**').replace('sin','*sin').replace('cos','*cos')\n",
        "      d=float(eval(res))\n",
        "      res=a.replace('x','*c').replace('=','').replace('0','').replace('^','**').replace('sin','*sin').replace('cos','*cos')\n",
        "      e=float(eval(res))\n",
        "      res=a.replace('x','*((b+c)/2)').replace('=','').replace('0','').replace('^','**').replace('sin','*sin').replace('cos','*cos')\n",
        "      mid_=float(eval(res))\n",
        "    print(str(b) +\" and \"+str(c)+\" are the roots of the equation.\")\n",
        "    print(\"No. of iterations is \"+ str(p))\n",
        "    break\n",
        "  break"
      ]
    }
  ]
}